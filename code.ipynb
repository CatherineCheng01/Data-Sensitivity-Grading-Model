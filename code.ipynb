{
 "cells": [
  {
   "cell_type": "code",
   "execution_count": null,
   "id": "947bbe4c",
   "metadata": {},
   "outputs": [],
   "source": [
    "import pandas as pd\n",
    "import numpy as np\n"
   ]
  },
  {
   "cell_type": "code",
   "execution_count": null,
   "id": "805db3cc",
   "metadata": {},
   "outputs": [],
   "source": [
    "data = pd.read_csv(r'D:/CTT/Datasets in case study.csv')"
   ]
  },
  {
   "cell_type": "code",
   "execution_count": null,
   "id": "fa58febc",
   "metadata": {},
   "outputs": [],
   "source": [
    "data['o'] = np.nan"
   ]
  },
  {
   "cell_type": "code",
   "execution_count": null,
   "id": "5dfa139b",
   "metadata": {},
   "outputs": [],
   "source": [
    "print('my_levels_o in case study:', 'personal data: 0,industry data: 1,national data: 3')\n",
    "data['o'][data.Type == 'personal data'] = input()\n",
    "data['o'][data.Type == 'industry data'] = input()\n",
    "data['o'][data.Type == 'national data'] = input()"
   ]
  },
  {
   "cell_type": "code",
   "execution_count": null,
   "id": "a8c0370c",
   "metadata": {},
   "outputs": [],
   "source": [
    "if 'Detail' in data.keys():\n",
    "    if 0:\n",
    "        data['dcount'] = np.nan\n",
    "        ri = 0\n",
    "        for dtl in data.Detail.str.split(';'):\n",
    "            data['dcount'][ri] = len(dtl)\n",
    "            ri+=1\n",
    "        dq = data.dcount.quantile((0.33,0.67)).values\n",
    "        data['v'] = np.nan\n",
    "        data['v'][data.dcount<dq[0]] = 1\n",
    "        data['v'][np.logical_and(data.dcount>=dq[0], data.dcount<dq[1])] = 2\n",
    "        data['v'][data.dcount>=dq[1]] = 3\n",
    "    else:\n",
    "        data['v'] = np.nan\n",
    "        ri = 0\n",
    "        for dtl in data.Detail.str.split(';'):\n",
    "            data['v'][ri] = len(dtl)\n",
    "            ri+=1\n",
    "else:\n",
    "    data['v'] = 1"
   ]
  },
  {
   "cell_type": "code",
   "execution_count": null,
   "id": "e61323eb",
   "metadata": {},
   "outputs": [],
   "source": [
    "# Such as 0.5:0.5\n",
    "print(\"Please input the weights of Wd and Ws, such as '0.5:0.5'\")\n",
    "Wscale = input()\n",
    "Wd = float(Wscale.split(':')[0])\n",
    "Ws = float(Wscale.split(':')[1])"
   ]
  },
  {
   "cell_type": "code",
   "execution_count": null,
   "id": "e8d6a90f",
   "metadata": {},
   "outputs": [],
   "source": [
    "print('Please input the degree of influence')\n",
    "print('In the case study,the level of i is set to 3 and the score of ‘Mild’ level, ‘Normal’ level and ‘Severe’ level are set to 0, 1 and 2 respectively.')\n",
    "my_levels_i = {'Name':1, 'Identity number':2, 'Contact number':1, 'Address':2, 'Signature information':2, 'Partner company data':2,\n",
    "'Product name':0, 'Product price':0, 'Product parameters':1, 'Transaction date':0, 'Business amount':2, 'Business content':2,'Staff structure data':2, 'Control information':2, 'Program Information':2}\n",
    "print('my_levels_i in case study is:',my_levels_i)\n",
    "data['i'] = np.nan\n",
    "for dtype in ['personal data', 'industry data', 'national data']:\n",
    "    dInType = data['Data'][data.Type == dtype].unique()\n",
    "    if len(dInType) == 0:\n",
    "        continue\n",
    "    print(\"All the 'Data' in \"+dtype+\" include\", dInType)\n",
    "    for dit in dInType:\n",
    "        print('Please set a value for the sevrity level of',dit)\n",
    "        jlevel = input()\n",
    "        data['i'][data.Data == dit] = jlevel\n"
   ]
  },
  {
   "cell_type": "code",
   "execution_count": null,
   "id": "38750ba9",
   "metadata": {},
   "outputs": [],
   "source": [
    "print('Please input the scope of influence')\n",
    "print('In the case study,the level of j is set to 3 and the score of ‘Smaller range’ level, ‘Larger range’ level and ‘Ultra-large range’ level, are set to 1, 2 and 3 respectively.')\n",
    "my_levels_j = {'Name':1, 'Identity number':1, 'Contact number':1, 'Address':1, 'Signature information':1, 'Partner company data':2,\n",
    "'Product name':1, 'Product price':1, 'Product parameters':1, 'Transaction date':1, 'Business amount':2, 'Business content':2,'Staff structure data':1, 'Control information':1, 'Program Information':2}\n",
    "print('My_levels_j in case study:',my_levels_j)\n",
    "\n",
    "data['j'] = np.nan\n",
    "for dtype in ['personal data', 'industry data', 'national data']:\n",
    "    dInType = data['Data'][data.Type == dtype].unique()\n",
    "    if len(dInType) == 0:\n",
    "        continue\n",
    "    print(\"All the 'Data' in \"+dtype+\" include\", dInType)\n",
    "    for dit in dInType:\n",
    "        print('Please set a value for the sevrity level of',dit)\n",
    "        jlevel = input()\n",
    "        data['j'][data.Data == dit] = jlevel\n",
    "        \n"
   ]
  },
  {
   "cell_type": "code",
   "execution_count": null,
   "id": "c13f04cd",
   "metadata": {},
   "outputs": [],
   "source": [
    "data.o = data.o.astype('int')\n",
    "data.i = data.i.astype('int')\n",
    "data.j = data.j.astype('int')\n"
   ]
  },
  {
   "cell_type": "code",
   "execution_count": null,
   "id": "a90d3957",
   "metadata": {},
   "outputs": [],
   "source": [
    "data['D_ovi'] = 2/(1+np.exp(-data.v))*(data.o+data.i)"
   ]
  },
  {
   "cell_type": "code",
   "execution_count": null,
   "id": "78d5006c",
   "metadata": {},
   "outputs": [],
   "source": [
    "data['S_ovj'] = 2/(1+np.exp(-data.v))*(data.o+data.j)"
   ]
  },
  {
   "cell_type": "code",
   "execution_count": null,
   "id": "7b1f5933",
   "metadata": {},
   "outputs": [],
   "source": [
    "data['D'] = Wd*data['D_ovi']"
   ]
  },
  {
   "cell_type": "code",
   "execution_count": null,
   "id": "0db5041b",
   "metadata": {},
   "outputs": [],
   "source": [
    "data['S'] = Ws*data['S_ovj']"
   ]
  },
  {
   "cell_type": "code",
   "execution_count": null,
   "id": "51ce367a",
   "metadata": {},
   "outputs": [],
   "source": [
    "data['L'] = data['D'] + data['S']"
   ]
  },
  {
   "cell_type": "code",
   "execution_count": null,
   "id": "315b5c93",
   "metadata": {},
   "outputs": [],
   "source": [
    "data['L'] = np.int16(data['L']+0.5)"
   ]
  },
  {
   "cell_type": "code",
   "execution_count": null,
   "id": "c4930028",
   "metadata": {},
   "outputs": [],
   "source": [
    "data"
   ]
  },
  {
   "cell_type": "code",
   "execution_count": null,
   "id": "95d6ab07",
   "metadata": {},
   "outputs": [],
   "source": [
    "data.to_csv('./L.csv')"
   ]
  },
  {
   "cell_type": "code",
   "execution_count": null,
   "id": "5d767316",
   "metadata": {},
   "outputs": [],
   "source": []
  },
  {
   "cell_type": "code",
   "execution_count": null,
   "id": "870e7265",
   "metadata": {},
   "outputs": [],
   "source": []
  },
  {
   "cell_type": "code",
   "execution_count": null,
   "id": "eb02e17e",
   "metadata": {},
   "outputs": [],
   "source": []
  },
  {
   "cell_type": "code",
   "execution_count": null,
   "id": "94044308",
   "metadata": {},
   "outputs": [],
   "source": []
  },
  {
   "cell_type": "code",
   "execution_count": null,
   "id": "31aa9da9",
   "metadata": {},
   "outputs": [],
   "source": []
  },
  {
   "cell_type": "code",
   "execution_count": null,
   "id": "1521a451",
   "metadata": {},
   "outputs": [],
   "source": []
  },
  {
   "cell_type": "code",
   "execution_count": null,
   "id": "0e2d67c2",
   "metadata": {},
   "outputs": [],
   "source": []
  },
  {
   "cell_type": "code",
   "execution_count": null,
   "id": "9cc5a728",
   "metadata": {},
   "outputs": [],
   "source": []
  }
 ],
 "metadata": {
  "kernelspec": {
   "display_name": "Python 3 (ipykernel)",
   "language": "python",
   "name": "python3"
  },
  "language_info": {
   "codemirror_mode": {
    "name": "ipython",
    "version": 3
   },
   "file_extension": ".py",
   "mimetype": "text/x-python",
   "name": "python",
   "nbconvert_exporter": "python",
   "pygments_lexer": "ipython3",
   "version": "3.9.16"
  }
 },
 "nbformat": 4,
 "nbformat_minor": 5
}
